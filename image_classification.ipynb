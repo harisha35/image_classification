{
 "cells": [
  {
   "cell_type": "markdown",
   "metadata": {
    "collapsed": true
   },
   "source": [
    "# Image Classification\n",
    "In this project, you'll classify images from the [CIFAR-10 dataset](https://www.cs.toronto.edu/~kriz/cifar.html).  The dataset consists of airplanes, dogs, cats, and other objects. You'll preprocess the images, then train a convolutional neural network on all the samples. The images need to be normalized and the labels need to be one-hot encoded.  You'll get to apply what you learned and build a convolutional, max pooling, dropout, and fully connected layers.  At the end, you'll get to see your neural network's predictions on the sample images.\n",
    "## Get the Data\n",
    "Run the following cell to download the [CIFAR-10 dataset for python](https://www.cs.toronto.edu/~kriz/cifar-10-python.tar.gz)."
   ]
  },
  {
   "cell_type": "code",
   "execution_count": 1,
   "metadata": {},
   "outputs": [
    {
     "name": "stdout",
     "output_type": "stream",
     "text": [
      "All files found!\n"
     ]
    }
   ],
   "source": [
    "\"\"\"\n",
    "DON'T MODIFY ANYTHING IN THIS CELL THAT IS BELOW THIS LINE\n",
    "\"\"\"\n",
    "from urllib.request import urlretrieve\n",
    "from os.path import isfile, isdir\n",
    "from tqdm import tqdm\n",
    "import problem_unittests as tests\n",
    "import tarfile\n",
    "\n",
    "cifar10_dataset_folder_path = 'cifar-10-batches-py'\n",
    "\n",
    "class DLProgress(tqdm):\n",
    "    last_block = 0\n",
    "\n",
    "    def hook(self, block_num=1, block_size=1, total_size=None):\n",
    "        self.total = total_size\n",
    "        self.update((block_num - self.last_block) * block_size)\n",
    "        self.last_block = block_num\n",
    "\n",
    "if not isfile('cifar-10-python.tar.gz'):\n",
    "    with DLProgress(unit='B', unit_scale=True, miniters=1, desc='CIFAR-10 Dataset') as pbar:\n",
    "        urlretrieve(\n",
    "            'https://www.cs.toronto.edu/~kriz/cifar-10-python.tar.gz',\n",
    "            'cifar-10-python.tar.gz',\n",
    "            pbar.hook)\n",
    "\n",
    "if not isdir(cifar10_dataset_folder_path):\n",
    "    with tarfile.open('cifar-10-python.tar.gz') as tar:\n",
    "        tar.extractall()\n",
    "        tar.close()\n",
    "\n",
    "\n",
    "tests.test_folder_path(cifar10_dataset_folder_path)"
   ]
  },
  {
   "cell_type": "markdown",
   "metadata": {},
   "source": [
    "## Explore the Data\n",
    "The dataset is broken into batches to prevent your machine from running out of memory.  The CIFAR-10 dataset consists of 5 batches, named `data_batch_1`, `data_batch_2`, etc.. Each batch contains the labels and images that are one of the following:\n",
    "* airplane\n",
    "* automobile\n",
    "* bird\n",
    "* cat\n",
    "* deer\n",
    "* dog\n",
    "* frog\n",
    "* horse\n",
    "* ship\n",
    "* truck\n",
    "\n",
    "Understanding a dataset is part of making predictions on the data.  Play around with the code cell below by changing the `batch_id` and `sample_id`. The `batch_id` is the id for a batch (1-5). The `sample_id` is the id for a image and label pair in the batch.\n",
    "\n",
    "Ask yourself \"What are all possible labels?\", \"What is the range of values for the image data?\", \"Are the labels in order or random?\".  Answers to questions like these will help you preprocess the data and end up with better predictions."
   ]
  },
  {
   "cell_type": "code",
   "execution_count": 2,
   "metadata": {},
   "outputs": [
    {
     "name": "stdout",
     "output_type": "stream",
     "text": [
      "\n",
      "Stats of batch 3:\n",
      "Samples: 10000\n",
      "Label Counts: {0: 994, 1: 1042, 2: 965, 3: 997, 4: 990, 5: 1029, 6: 978, 7: 1015, 8: 961, 9: 1029}\n",
      "First 20 Labels: [8, 5, 0, 6, 9, 2, 8, 3, 6, 2, 7, 4, 6, 9, 0, 0, 7, 3, 7, 2]\n",
      "\n",
      "Example of Image 5:\n",
      "Image - Min Value: 9 Max Value: 255\n",
      "Image - Shape: (32, 32, 3)\n",
      "Label - Label Id: 2 Name: bird\n"
     ]
    },
    {
     "data": {
      "image/png": "[encoded data removed]",
      "text/plain": [
       "<Figure size 432x288 with 1 Axes>"
      ]
     },
     "metadata": {
      "image/png": {
       "height": 250,
       "width": 253
      }
     },
     "output_type": "display_data"
    }
   ],
   "source": [
    "%matplotlib inline\n",
    "%config InlineBackend.figure_format = 'retina'\n",
    "\n",
    "import helper\n",
    "import numpy as np\n",
    "\n",
    "# Explore the dataset\n",
    "batch_id = 3\n",
    "sample_id = 5\n",
    "helper.display_stats(cifar10_dataset_folder_path, batch_id, sample_id)"
   ]
  },
  {
   "cell_type": "markdown",
   "metadata": {},
   "source": [
    "## Implement Preprocess Functions\n",
    "### Normalize\n",
    "In the cell below, implement the `normalize` function to take in image data, `x`, and return it as a normalized Numpy array. The values should be in the range of 0 to 1, inclusive.  The return object should be the same shape as `x`."
   ]
  },
  {
   "cell_type": "code",
   "execution_count": 3,
   "metadata": {},
   "outputs": [
    {
     "name": "stdout",
     "output_type": "stream",
     "text": [
      "Tests Passed\n"
     ]
    }
   ],
   "source": [
    "def normalize(x):\n",
    "    \"\"\"\n",
    "    Normalize a list of sample image data in the range of 0 to 1\n",
    "    : x: List of image data.  The image shape is (32, 32, 3)\n",
    "    : return: Numpy array of normalize data\n",
    "    \"\"\"\n",
    "\n",
    "    max_value = np.max(x)\n",
    "    min_value = np.min(x)\n",
    "    normalized = []\n",
    "\n",
    "    for ele in x:\n",
    "        normalized.append((ele - min_value) / (max_value - min_value))\n",
    "        \n",
    "    return np.array(normalized)\n",
    "\n",
    "\n",
    "\"\"\"\n",
    "DON'T MODIFY ANYTHING IN THIS CELL THAT IS BELOW THIS LINE\n",
    "\"\"\"\n",
    "tests.test_normalize(normalize)"
   ]
  },
  {
   "cell_type": "markdown",
   "metadata": {},
   "source": [
    "### One-hot encode\n",
    "Just like the previous code cell, you'll be implementing a function for preprocessing.  This time, you'll implement the `one_hot_encode` function. The input, `x`, are a list of labels.  Implement the function to return the list of labels as One-Hot encoded Numpy array.  The possible values for labels are 0 to 9. The one-hot encoding function should return the same encoding for each value between each call to `one_hot_encode`.  Make sure to save the map of encodings outside the function.\n",
    "\n",
    "\n",
    "**Hint:**\n",
    "\n",
    "Look into LabelBinarizer in the preprocessing module of sklearn."
   ]
  },
  {
   "cell_type": "code",
   "execution_count": 4,
   "metadata": {},
   "outputs": [
    {
     "name": "stdout",
     "output_type": "stream",
     "text": [
      "Tests Passed\n"
     ]
    }
   ],
   "source": [
    "import sklearn.preprocessing\n",
    "\n",
    "def one_hot_encode(x):\n",
    "    \"\"\"\n",
    "    One hot encode a list of sample labels. Return a one-hot encoded vector for each label.\n",
    "    : x: List of sample Labels\n",
    "    : return: Numpy array of one-hot encoded labels\n",
    "    \"\"\"\n",
    "    encoded = np.zeros((len(x), 10))\n",
    "    num_rows = range(len(x))\n",
    "    num_cols = list(x)\n",
    "    encoded[num_rows, num_cols] = 1\n",
    "    return encoded\n",
    "\n",
    "\n",
    "\"\"\"\n",
    "DON'T MODIFY ANYTHING IN THIS CELL THAT IS BELOW THIS LINE\n",
    "\"\"\"\n",
    "tests.test_one_hot_encode(one_hot_encode)"
   ]
  },
  {
   "cell_type": "markdown",
   "metadata": {},
   "source": [
    "### Randomize Data\n",
    "As you saw from exploring the data above, the order of the samples are randomized.  It doesn't hurt to randomize it again, but you don't need to for this dataset."
   ]
  },
  {
   "cell_type": "markdown",
   "metadata": {},
   "source": [
    "## Preprocess all the data and save it\n",
    "Running the code cell below will preprocess all the CIFAR-10 data and save it to file. The code below also uses 10% of the training data for validation."
   ]
  },
  {
   "cell_type": "code",
   "execution_count": 5,
   "metadata": {},
   "outputs": [],
   "source": [
    "\"\"\"\n",
    "DON'T MODIFY ANYTHING IN THIS CELL\n",
    "\"\"\"\n",
    "# Preprocess Training, Validation, and Testing Data\n",
    "helper.preprocess_and_save_data(cifar10_dataset_folder_path, normalize, one_hot_encode)"
   ]
  },
  {
   "cell_type": "markdown",
   "metadata": {},
   "source": [
    "# Check Point\n",
    "This is your first checkpoint.  If you ever decide to come back to this notebook or have to restart the notebook, you can start from here.  The preprocessed data has been saved to disk."
   ]
  },
  {
   "cell_type": "code",
   "execution_count": 6,
   "metadata": {},
   "outputs": [],
   "source": [
    "\"\"\"\n",
    "DON'T MODIFY ANYTHING IN THIS CELL\n",
    "\"\"\"\n",
    "import pickle\n",
    "import problem_unittests as tests\n",
    "import helper\n",
    "\n",
    "# Load the Preprocessed Validation data\n",
    "valid_features, valid_labels = pickle.load(open('preprocess_validation.p', mode='rb'))"
   ]
  },
  {
   "cell_type": "markdown",
   "metadata": {},
   "source": [
    "## Build the network\n",
    "For the neural network, you'll build each layer into a function.  Most of the code you've seen has been outside of functions. To test your code more thoroughly, we require that you put each layer in a function.  This allows us to give you better feedback and test for simple mistakes using our unittests before you submit your project.\n",
    "\n",
    ">**Note:** If you're finding it hard to dedicate enough time for this course each week, we've provided a small shortcut to this part of the project. In the next couple of problems, you'll have the option to use classes from the [TensorFlow Layers](https://www.tensorflow.org/api_docs/python/tf/layers) or [TensorFlow Layers (contrib)](https://www.tensorflow.org/api_guides/python/contrib.layers) packages to build each layer, except the layers you build in the \"Convolutional and Max Pooling Layer\" section.  TF Layers is similar to Keras's and TFLearn's abstraction to layers, so it's easy to pickup.\n",
    "\n",
    ">However, if you would like to get the most out of this course, try to solve all the problems _without_ using anything from the TF Layers packages. You **can** still use classes from other packages that happen to have the same name as ones you find in TF Layers! For example, instead of using the TF Layers version of the `conv2d` class, [tf.layers.conv2d](https://www.tensorflow.org/api_docs/python/tf/layers/conv2d), you would want to use the TF Neural Network version of `conv2d`, [tf.nn.conv2d](https://www.tensorflow.org/api_docs/python/tf/nn/conv2d). \n",
    "\n",
    "Let's begin!\n",
    "\n",
    "### Input\n",
    "The neural network needs to read the image data, one-hot encoded labels, and dropout keep probability. Implement the following functions\n",
    "* Implement `neural_net_image_input`\n",
    " * Return a [TF Placeholder](https://www.tensorflow.org/api_docs/python/tf/placeholder)\n",
    " * Set the shape using `image_shape` with batch size set to `None`.\n",
    " * Name the TensorFlow placeholder \"x\" using the TensorFlow `name` parameter in the [TF Placeholder](https://www.tensorflow.org/api_docs/python/tf/placeholder).\n",
    "* Implement `neural_net_label_input`\n",
    " * Return a [TF Placeholder](https://www.tensorflow.org/api_docs/python/tf/placeholder)\n",
    " * Set the shape using `n_classes` with batch size set to `None`.\n",
    " * Name the TensorFlow placeholder \"y\" using the TensorFlow `name` parameter in the [TF Placeholder](https://www.tensorflow.org/api_docs/python/tf/placeholder).\n",
    "* Implement `neural_net_keep_prob_input`\n",
    " * Return a [TF Placeholder](https://www.tensorflow.org/api_docs/python/tf/placeholder) for dropout keep probability.\n",
    " * Name the TensorFlow placeholder \"keep_prob\" using the TensorFlow `name` parameter in the [TF Placeholder](https://www.tensorflow.org/api_docs/python/tf/placeholder).\n",
    "\n",
    "These names will be used at the end of the project to load your saved model.\n",
    "\n",
    "Note: `None` for shapes in TensorFlow allow for a dynamic size."
   ]
  },
  {
   "cell_type": "code",
   "execution_count": 7,
   "metadata": {},
   "outputs": [
    {
     "name": "stdout",
     "output_type": "stream",
     "text": [
      "Image Input Tests Passed.\n",
      "Label Input Tests Passed.\n",
      "Keep Prob Tests Passed.\n"
     ]
    }
   ],
   "source": [
    "import tensorflow as tf\n",
    "\n",
    "def neural_net_image_input(image_shape):\n",
    "    \"\"\"\n",
    "    Return a Tensor for a batch of image input\n",
    "    : image_shape: Shape of the images\n",
    "    : return: Tensor for image input.\n",
    "    \"\"\"\n",
    "    shape = [None]\n",
    "    shape.extend(image_shape)\n",
    "    return tf.placeholder(tf.float32, shape=shape, name='x')\n",
    "\n",
    "def neural_net_label_input(n_classes):\n",
    "    \"\"\"\n",
    "    Return a Tensor for a batch of label input\n",
    "    : n_classes: Number of classes\n",
    "    : return: Tensor for label input.\n",
    "    \"\"\"\n",
    "    return tf.placeholder(tf.float32, shape=[None, n_classes], name='y')\n",
    "\n",
    "\n",
    "def neural_net_keep_prob_input():\n",
    "    \"\"\"\n",
    "    Return a Tensor for keep probability\n",
    "    : return: Tensor for keep probability.\n",
    "    \"\"\"\n",
    "    return tf.placeholder(tf.float32, name='keep_prob')\n",
    "\n",
    "\n",
    "\"\"\"\n",
    "DON'T MODIFY ANYTHING IN THIS CELL THAT IS BELOW THIS LINE\n",
    "\"\"\"\n",
    "tf.reset_default_graph()\n",
    "tests.test_nn_image_inputs(neural_net_image_input)\n",
    "tests.test_nn_label_inputs(neural_net_label_input)\n",
    "tests.test_nn_keep_prob_inputs(neural_net_keep_prob_input)"
   ]
  },
  {
   "cell_type": "markdown",
   "metadata": {},
   "source": [
    "### Convolution and Max Pooling Layer\n",
    "Convolution layers have a lot of success with images. For this code cell, you should implement the function `conv2d_maxpool` to apply convolution then max pooling:\n",
    "* Create the weight and bias using `conv_ksize`, `conv_num_outputs` and the shape of `x_tensor`.\n",
    "* Apply a convolution to `x_tensor` using weight and `conv_strides`.\n",
    " * We recommend you use same padding, but you're welcome to use any padding.\n",
    "* Add bias\n",
    "* Add a nonlinear activation to the convolution.\n",
    "* Apply Max Pooling using `pool_ksize` and `pool_strides`.\n",
    " * We recommend you use same padding, but you're welcome to use any padding.\n",
    "\n",
    "**Note:** You **can't** use [TensorFlow Layers](https://www.tensorflow.org/api_docs/python/tf/layers) or [TensorFlow Layers (contrib)](https://www.tensorflow.org/api_guides/python/contrib.layers) for **this** layer, but you can still use TensorFlow's [Neural Network](https://www.tensorflow.org/api_docs/python/tf/nn) package. You may still use the shortcut option for all the **other** layers.\n",
    "\n",
    "** Hint: **\n",
    "\n",
    "When unpacking values as an argument in Python, look into the [unpacking](https://docs.python.org/3/tutorial/controlflow.html#unpacking-argument-lists) operator. "
   ]
  },
  {
   "cell_type": "code",
   "execution_count": 8,
   "metadata": {},
   "outputs": [
    {
     "name": "stdout",
     "output_type": "stream",
     "text": [
      "Tests Passed\n"
     ]
    }
   ],
   "source": [
    "import math\n",
    "\n",
    "def conv2d_maxpool(x_tensor, conv_num_outputs, conv_ksize, conv_strides, pool_ksize, pool_strides):\n",
    "    \"\"\"\n",
    "    Apply convolution then max pooling to x_tensor\n",
    "    :param x_tensor: TensorFlow Tensor\n",
    "    :param conv_num_outputs: Number of outputs for the convolutional layer\n",
    "    :param conv_ksize: kernal size 2-D Tuple for the convolutional layer\n",
    "    :param conv_strides: Stride 2-D Tuple for convolution\n",
    "    :param pool_ksize: kernal size 2-D Tuple for pool\n",
    "    :param pool_strides: Stride 2-D Tuple for pool\n",
    "    : return: A tensor that represents convolution and max pooling of x_tensor\n",
    "    \"\"\"\n",
    "    weight = tf.Variable(tf.random_normal(\n",
    "        [conv_ksize[0], conv_ksize[1],\n",
    "         x_tensor.get_shape().as_list()[3],\n",
    "         conv_num_outputs],\n",
    "        stddev = math.sqrt(2/(conv_ksize[0] * conv_ksize[1] * x_tensor.get_shape().as_list()[3]))))\n",
    "    \n",
    "    bias = tf.Variable(tf.zeros([conv_num_outputs]))\n",
    "    \n",
    "    x_tensor = tf.nn.conv2d(\n",
    "            x_tensor,\n",
    "            weight,\n",
    "            [1,conv_strides[0],conv_strides[1],1],\n",
    "            padding = \"SAME\",\n",
    "        )\n",
    "    \n",
    "    x_tensor = tf.nn.bias_add(x_tensor, bias)\n",
    "    x_tensor = tf.nn.relu(x_tensor)\n",
    "    x_tensor = tf.nn.max_pool(x_tensor, [1, pool_ksize[0], pool_ksize[1], 1], \\\n",
    "                              [1, pool_strides[0], pool_strides[1], 1], padding='SAME')\n",
    "    \n",
    "    return x_tensor\n",
    "\n",
    "\n",
    "\"\"\"\n",
    "DON'T MODIFY ANYTHING IN THIS CELL THAT IS BELOW THIS LINE\n",
    "\"\"\"\n",
    "tests.test_con_pool(conv2d_maxpool)"
   ]
  },
  {
   "cell_type": "markdown",
   "metadata": {},
   "source": [
    "### Flatten Layer\n",
    "Implement the `flatten` function to change the dimension of `x_tensor` from a 4-D tensor to a 2-D tensor.  The output should be the shape (*Batch Size*, *Flattened Image Size*). Shortcut option: you can use classes from the [TensorFlow Layers](https://www.tensorflow.org/api_docs/python/tf/layers) or [TensorFlow Layers (contrib)](https://www.tensorflow.org/api_guides/python/contrib.layers) packages for this layer. For more of a challenge, only use other TensorFlow packages."
   ]
  },
  {
   "cell_type": "code",
   "execution_count": 9,
   "metadata": {},
   "outputs": [
    {
     "name": "stdout",
     "output_type": "stream",
     "text": [
      "Tests Passed\n"
     ]
    }
   ],
   "source": [
    "def flatten(x_tensor):\n",
    "    \"\"\"\n",
    "    Flatten x_tensor to (Batch Size, Flattened Image Size)\n",
    "    : x_tensor: A tensor of size (Batch Size, ...), where ... are the image dimensions.\n",
    "    : return: A tensor of size (Batch Size, Flattened Image Size).\n",
    "    \"\"\"\n",
    "    shape = x_tensor.get_shape().as_list()\n",
    "    return tf.reshape(x_tensor, [-1, shape[1] * shape[2] * shape[3]])\n",
    "\n",
    "\n",
    "\"\"\"\n",
    "DON'T MODIFY ANYTHING IN THIS CELL THAT IS BELOW THIS LINE\n",
    "\"\"\"\n",
    "tests.test_flatten(flatten)"
   ]
  },
  {
   "cell_type": "markdown",
   "metadata": {},
   "source": [
    "### Fully-Connected Layer\n",
    "Implement the `fully_conn` function to apply a fully connected layer to `x_tensor` with the shape (*Batch Size*, *num_outputs*). Shortcut option: you can use classes from the [TensorFlow Layers](https://www.tensorflow.org/api_docs/python/tf/layers) or [TensorFlow Layers (contrib)](https://www.tensorflow.org/api_guides/python/contrib.layers) packages for this layer. For more of a challenge, only use other TensorFlow packages."
   ]
  },
  {
   "cell_type": "code",
   "execution_count": 10,
   "metadata": {},
   "outputs": [
    {
     "name": "stdout",
     "output_type": "stream",
     "text": [
      "Tests Passed\n"
     ]
    }
   ],
   "source": [
    "def fully_conn(x_tensor, num_outputs):\n",
    "    \"\"\"\n",
    "    Apply a fully connected layer to x_tensor using weight and bias\n",
    "    : x_tensor: A 2-D tensor where the first dimension is batch size.\n",
    "    : num_outputs: The number of output that the new tensor should be.\n",
    "    : return: A 2-D tensor where the second dimension is num_outputs.\n",
    "    \"\"\"\n",
    "    stddev = math.sqrt(2/x_tensor.get_shape().as_list()[1])\n",
    "    \n",
    "    weight = tf.Variable(tf.truncated_normal([x_tensor.get_shape().as_list()[1], num_outputs], stddev=stddev))\n",
    "    bias = tf.Variable(tf.zeros([num_outputs]))\n",
    "    return tf.nn.relu(tf.add(tf.matmul(x_tensor, weight), bias))\n",
    "\n",
    "\n",
    "\"\"\"\n",
    "DON'T MODIFY ANYTHING IN THIS CELL THAT IS BELOW THIS LINE\n",
    "\"\"\"\n",
    "tests.test_fully_conn(fully_conn)"
   ]
  },
  {
   "cell_type": "markdown",
   "metadata": {},
   "source": [
    "### Output Layer\n",
    "Implement the `output` function to apply a fully connected layer to `x_tensor` with the shape (*Batch Size*, *num_outputs*). Shortcut option: you can use classes from the [TensorFlow Layers](https://www.tensorflow.org/api_docs/python/tf/layers) or [TensorFlow Layers (contrib)](https://www.tensorflow.org/api_guides/python/contrib.layers) packages for this layer. For more of a challenge, only use other TensorFlow packages.\n",
    "\n",
    "**Note:** Activation, softmax, or cross entropy should **not** be applied to this."
   ]
  },
  {
   "cell_type": "code",
   "execution_count": 11,
   "metadata": {},
   "outputs": [
    {
     "name": "stdout",
     "output_type": "stream",
     "text": [
      "Tests Passed\n"
     ]
    }
   ],
   "source": [
    "def output(x_tensor, num_outputs):\n",
    "    \"\"\"\n",
    "    Apply a output layer to x_tensor using weight and bias\n",
    "    : x_tensor: A 2-D tensor where the first dimension is batch size.\n",
    "    : num_outputs: The number of output that the new tensor should be.\n",
    "    : return: A 2-D tensor where the second dimension is num_outputs.\n",
    "    \"\"\"\n",
    "    stddev = math.sqrt(2/x_tensor.get_shape().as_list()[1])\n",
    "    \n",
    "    weight = tf.Variable(tf.truncated_normal([x_tensor.get_shape().as_list()[1], num_outputs], stddev=stddev))\n",
    "    bias = tf.Variable(tf.zeros([num_outputs]))\n",
    "    return tf.add(tf.matmul(x_tensor, weight), bias)\n",
    "\n",
    "\n",
    "\"\"\"\n",
    "DON'T MODIFY ANYTHING IN THIS CELL THAT IS BELOW THIS LINE\n",
    "\"\"\"\n",
    "tests.test_output(output)"
   ]
  },
  {
   "cell_type": "markdown",
   "metadata": {},
   "source": [
    "### Create Convolutional Model\n",
    "Implement the function `conv_net` to create a convolutional neural network model. The function takes in a batch of images, `x`, and outputs logits.  Use the layers you created above to create this model:\n",
    "\n",
    "* Apply 1, 2, or 3 Convolution and Max Pool layers\n",
    "* Apply a Flatten Layer\n",
    "* Apply 1, 2, or 3 Fully Connected Layers\n",
    "* Apply an Output Layer\n",
    "* Return the output\n",
    "* Apply [TensorFlow's Dropout](https://www.tensorflow.org/api_docs/python/tf/nn/dropout) to one or more layers in the model using `keep_prob`. "
   ]
  },
  {
   "cell_type": "code",
   "execution_count": 12,
   "metadata": {},
   "outputs": [
    {
     "name": "stdout",
     "output_type": "stream",
     "text": [
      "WARNING:tensorflow:From <ipython-input-12-b2902e72bb4c>:78: softmax_cross_entropy_with_logits (from tensorflow.python.ops.nn_ops) is deprecated and will be removed in a future version.\n",
      "Instructions for updating:\n",
      "\n",
      "Future major versions of TensorFlow will allow gradients to flow\n",
      "into the labels input on backprop by default.\n",
      "\n",
      "See @{tf.nn.softmax_cross_entropy_with_logits_v2}.\n",
      "\n",
      "Neural Network Built!\n"
     ]
    }
   ],
   "source": [
    "def conv_net(x, keep_prob):\n",
    "    \"\"\"\n",
    "    Create a convolutional neural network model\n",
    "    : x: Placeholder tensor that holds image data.\n",
    "    : keep_prob: Placeholder tensor that hold dropout keep probability.\n",
    "    : return: Tensor that represents logits\n",
    "    \"\"\"\n",
    "    # Apply 1, 2, or 3 Convolution and Max Pool layers\n",
    "    #    Play around with different number of outputs, kernel size and stride\n",
    "    # Function Definition from Above:\n",
    "    conv1 = conv2d_maxpool(x,\n",
    "                           conv_num_outputs=32,\n",
    "                           conv_ksize=[3,3],\n",
    "                           conv_strides=[1,1],\n",
    "                           pool_ksize=[2,2],\n",
    "                           pool_strides=[2,2])\n",
    "    \n",
    "    conv2 = conv2d_maxpool(x,\n",
    "                       conv_num_outputs=64,\n",
    "                       conv_ksize=[5,5],\n",
    "                       conv_strides=[1,1],\n",
    "                       pool_ksize=[2,2],\n",
    "                       pool_strides=[3,3])\n",
    "        \n",
    "    conv3 = conv2d_maxpool(x,\n",
    "                   conv_num_outputs=128,\n",
    "                   conv_ksize=[3,3],\n",
    "                   conv_strides=[1,1],\n",
    "                   pool_ksize=[2,2],\n",
    "                   pool_strides=[3,3])\n",
    "    \n",
    "\n",
    "    # Function Definition from Above:\n",
    "    flattened = flatten(conv1)\n",
    "    # flattened = flatten(conv2)\n",
    "    # flattened = flatten(conv2)\n",
    "    flattened = tf.nn.dropout(flattened, keep_prob)\n",
    "    \n",
    "\n",
    "    # Apply 1, 2, or 3 Fully Connected Layers\n",
    "    #    Play around with different number of outputs\n",
    "    # Function Definition from Above:\n",
    "    connected = fully_conn(flattened, num_outputs=256)\n",
    "    connected = tf.nn.dropout(connected, keep_prob)\n",
    "    \n",
    "    \n",
    "    # Apply an Output Layer\n",
    "    #    Set this to the number of classes\n",
    "    # Function Definition from Above:\n",
    "    out_layer = output(connected, num_outputs=10)\n",
    "    \n",
    "    return out_layer\n",
    "\n",
    "\n",
    "\"\"\"\n",
    "DON'T MODIFY ANYTHING IN THIS CELL THAT IS BELOW THIS LINE\n",
    "\"\"\"\n",
    "\n",
    "##############################\n",
    "## Build the Neural Network ##\n",
    "##############################\n",
    "\n",
    "# Remove previous weights, bias, inputs, etc..\n",
    "tf.reset_default_graph()\n",
    "\n",
    "# Inputs\n",
    "x = neural_net_image_input((32, 32, 3))\n",
    "y = neural_net_label_input(10)\n",
    "keep_prob = neural_net_keep_prob_input()\n",
    "\n",
    "# Model\n",
    "logits = conv_net(x, keep_prob)\n",
    "\n",
    "# Name logits Tensor, so that is can be loaded from disk after training\n",
    "logits = tf.identity(logits, name='logits')\n",
    "\n",
    "# Loss and Optimizer\n",
    "cost = tf.reduce_mean(tf.nn.softmax_cross_entropy_with_logits(logits=logits, labels=y))\n",
    "optimizer = tf.train.AdamOptimizer().minimize(cost)\n",
    "\n",
    "# Accuracy\n",
    "correct_pred = tf.equal(tf.argmax(logits, 1), tf.argmax(y, 1))\n",
    "accuracy = tf.reduce_mean(tf.cast(correct_pred, tf.float32), name='accuracy')\n",
    "\n",
    "tests.test_conv_net(conv_net)"
   ]
  },
  {
   "cell_type": "markdown",
   "metadata": {},
   "source": [
    "## Train the Neural Network\n",
    "### Single Optimization\n",
    "Implement the function `train_neural_network` to do a single optimization.  The optimization should use `optimizer` to optimize in `session` with a `feed_dict` of the following:\n",
    "* `x` for image input\n",
    "* `y` for labels\n",
    "* `keep_prob` for keep probability for dropout\n",
    "\n",
    "This function will be called for each batch, so `tf.global_variables_initializer()` has already been called.\n",
    "\n",
    "Note: Nothing needs to be returned. This function is only optimizing the neural network."
   ]
  },
  {
   "cell_type": "code",
   "execution_count": 13,
   "metadata": {},
   "outputs": [
    {
     "name": "stdout",
     "output_type": "stream",
     "text": [
      "Tests Passed\n"
     ]
    }
   ],
   "source": [
    "def train_neural_network(session, optimizer, keep_probability, feature_batch, label_batch):\n",
    "    \"\"\"\n",
    "    Optimize the session on a batch of images and labels\n",
    "    : session: Current TensorFlow session\n",
    "    : optimizer: TensorFlow optimizer function\n",
    "    : keep_probability: keep probability\n",
    "    : feature_batch: Batch of Numpy image data\n",
    "    : label_batch: Batch of Numpy label data\n",
    "    \"\"\"\n",
    "    session.run(optimizer, feed_dict={x: feature_batch,\n",
    "                                     y: label_batch,\n",
    "                                     keep_prob: keep_probability})\n",
    "\n",
    "\n",
    "\"\"\"\n",
    "DON'T MODIFY ANYTHING IN THIS CELL THAT IS BELOW THIS LINE\n",
    "\"\"\"\n",
    "tests.test_train_nn(train_neural_network)"
   ]
  },
  {
   "cell_type": "markdown",
   "metadata": {},
   "source": [
    "### Show Stats\n",
    "Implement the function `print_stats` to print loss and validation accuracy.  Use the global variables `valid_features` and `valid_labels` to calculate validation accuracy.  Use a keep probability of `1.0` to calculate the loss and validation accuracy."
   ]
  },
  {
   "cell_type": "code",
   "execution_count": 14,
   "metadata": {},
   "outputs": [],
   "source": [
    "def print_stats(session, feature_batch, label_batch, cost, accuracy):\n",
    "    \"\"\"\n",
    "    Print information about loss and validation accuracy\n",
    "    : session: Current TensorFlow session\n",
    "    : feature_batch: Batch of Numpy image data\n",
    "    : label_batch: Batch of Numpy label data\n",
    "    : cost: TensorFlow cost function\n",
    "    : accuracy: TensorFlow accuracy function\n",
    "    \"\"\"\n",
    "    loss = session.run(cost, feed_dict={x: feature_batch,\n",
    "                                     y: label_batch,\n",
    "                                     keep_prob: 1.0})\n",
    "    acc = session.run(accuracy, feed_dict={x: valid_features,\n",
    "                                     y: valid_labels,\n",
    "                                     keep_prob: 1.0})\n",
    "    print(\"Loss: \", loss, \"Accuracy: \", acc)"
   ]
  },
  {
   "cell_type": "markdown",
   "metadata": {},
   "source": [
    "### Hyperparameters\n",
    "Tune the following parameters:\n",
    "* Set `epochs` to the number of iterations until the network stops learning or start overfitting\n",
    "* Set `batch_size` to the highest number that your machine has memory for.  Most people set them to common sizes of memory:\n",
    " * 64\n",
    " * 128\n",
    " * 256\n",
    " * ...\n",
    "* Set `keep_probability` to the probability of keeping a node using dropout"
   ]
  },
  {
   "cell_type": "code",
   "execution_count": 15,
   "metadata": {},
   "outputs": [],
   "source": [
    "epochs = 48\n",
    "batch_size = 128\n",
    "keep_probability = 0.75"
   ]
  },
  {
   "cell_type": "markdown",
   "metadata": {},
   "source": [
    "### Train on a Single CIFAR-10 Batch\n",
    "Instead of training the neural network on all the CIFAR-10 batches of data, let's use a single batch. This should save time while you iterate on the model to get a better accuracy.  Once the final validation accuracy is 50% or greater, run the model on all the data in the next section."
   ]
  },
  {
   "cell_type": "code",
   "execution_count": 16,
   "metadata": {},
   "outputs": [
    {
     "name": "stdout",
     "output_type": "stream",
     "text": [
      "Checking the Training on a Single Batch...\n",
      "Epoch  1, CIFAR-10 Batch 1:  Loss:  1.9129374 Accuracy:  0.3768\n",
      "Epoch  2, CIFAR-10 Batch 1:  Loss:  1.6288397 Accuracy:  0.4496\n",
      "Epoch  3, CIFAR-10 Batch 1:  Loss:  1.3663527 Accuracy:  0.4884\n",
      "Epoch  4, CIFAR-10 Batch 1:  Loss:  1.1599696 Accuracy:  0.5116\n",
      "Epoch  5, CIFAR-10 Batch 1:  Loss:  1.0302515 Accuracy:  0.5338\n",
      "Epoch  6, CIFAR-10 Batch 1:  Loss:  0.88953704 Accuracy:  0.5312\n",
      "Epoch  7, CIFAR-10 Batch 1:  Loss:  0.7875631 Accuracy:  0.537\n",
      "Epoch  8, CIFAR-10 Batch 1:  Loss:  0.75142187 Accuracy:  0.5424\n",
      "Epoch  9, CIFAR-10 Batch 1:  Loss:  0.66593254 Accuracy:  0.55\n",
      "Epoch 10, CIFAR-10 Batch 1:  Loss:  0.5750895 Accuracy:  0.548\n",
      "Epoch 11, CIFAR-10 Batch 1:  Loss:  0.55704355 Accuracy:  0.5534\n",
      "Epoch 12, CIFAR-10 Batch 1:  Loss:  0.47242886 Accuracy:  0.5612\n",
      "Epoch 13, CIFAR-10 Batch 1:  Loss:  0.43573624 Accuracy:  0.5648\n",
      "Epoch 14, CIFAR-10 Batch 1:  Loss:  0.40840253 Accuracy:  0.5538\n",
      "Epoch 15, CIFAR-10 Batch 1:  Loss:  0.35504833 Accuracy:  0.5592\n",
      "Epoch 16, CIFAR-10 Batch 1:  Loss:  0.34283406 Accuracy:  0.558\n",
      "Epoch 17, CIFAR-10 Batch 1:  Loss:  0.28897303 Accuracy:  0.5644\n",
      "Epoch 18, CIFAR-10 Batch 1:  Loss:  0.24721889 Accuracy:  0.5598\n",
      "Epoch 19, CIFAR-10 Batch 1:  Loss:  0.24945267 Accuracy:  0.5594\n",
      "Epoch 20, CIFAR-10 Batch 1:  Loss:  0.21634829 Accuracy:  0.5694\n",
      "Epoch 21, CIFAR-10 Batch 1:  Loss:  0.19852616 Accuracy:  0.5656\n",
      "Epoch 22, CIFAR-10 Batch 1:  Loss:  0.1890668 Accuracy:  0.5646\n",
      "Epoch 23, CIFAR-10 Batch 1:  Loss:  0.16684404 Accuracy:  0.5666\n",
      "Epoch 24, CIFAR-10 Batch 1:  Loss:  0.16844729 Accuracy:  0.5654\n",
      "Epoch 25, CIFAR-10 Batch 1:  Loss:  0.15539126 Accuracy:  0.5666\n",
      "Epoch 26, CIFAR-10 Batch 1:  Loss:  0.13602538 Accuracy:  0.5618\n",
      "Epoch 27, CIFAR-10 Batch 1:  Loss:  0.14338438 Accuracy:  0.5604\n",
      "Epoch 28, CIFAR-10 Batch 1:  Loss:  0.15839255 Accuracy:  0.551\n",
      "Epoch 29, CIFAR-10 Batch 1:  Loss:  0.119617105 Accuracy:  0.551\n",
      "Epoch 30, CIFAR-10 Batch 1:  Loss:  0.13838927 Accuracy:  0.5534\n",
      "Epoch 31, CIFAR-10 Batch 1:  Loss:  0.11236223 Accuracy:  0.5488\n",
      "Epoch 32, CIFAR-10 Batch 1:  Loss:  0.10693959 Accuracy:  0.5508\n",
      "Epoch 33, CIFAR-10 Batch 1:  Loss:  0.08106723 Accuracy:  0.5494\n",
      "Epoch 34, CIFAR-10 Batch 1:  Loss:  0.0982853 Accuracy:  0.549\n",
      "Epoch 35, CIFAR-10 Batch 1:  Loss:  0.07674532 Accuracy:  0.5562\n",
      "Epoch 36, CIFAR-10 Batch 1:  Loss:  0.07182668 Accuracy:  0.5544\n",
      "Epoch 37, CIFAR-10 Batch 1:  Loss:  0.07731217 Accuracy:  0.5366\n",
      "Epoch 38, CIFAR-10 Batch 1:  Loss:  0.058477957 Accuracy:  0.5536\n",
      "Epoch 39, CIFAR-10 Batch 1:  Loss:  0.06774864 Accuracy:  0.5476\n",
      "Epoch 40, CIFAR-10 Batch 1:  Loss:  0.06126398 Accuracy:  0.5574\n",
      "Epoch 41, CIFAR-10 Batch 1:  Loss:  0.05714361 Accuracy:  0.5516\n",
      "Epoch 42, CIFAR-10 Batch 1:  Loss:  0.042965986 Accuracy:  0.554\n",
      "Epoch 43, CIFAR-10 Batch 1:  Loss:  0.046331618 Accuracy:  0.5586\n",
      "Epoch 44, CIFAR-10 Batch 1:  Loss:  0.05506919 Accuracy:  0.5586\n",
      "Epoch 45, CIFAR-10 Batch 1:  Loss:  0.04771582 Accuracy:  0.5538\n",
      "Epoch 46, CIFAR-10 Batch 1:  Loss:  0.042564776 Accuracy:  0.557\n",
      "Epoch 47, CIFAR-10 Batch 1:  Loss:  0.037384372 Accuracy:  0.5548\n",
      "Epoch 48, CIFAR-10 Batch 1:  Loss:  0.042012367 Accuracy:  0.5484\n"
     ]
    }
   ],
   "source": [
    "\"\"\"\n",
    "DON'T MODIFY ANYTHING IN THIS CELL\n",
    "\"\"\"\n",
    "print('Checking the Training on a Single Batch...')\n",
    "with tf.Session() as sess:\n",
    "    # Initializing the variables\n",
    "    sess.run(tf.global_variables_initializer())\n",
    "\n",
    "    # Training cycle\n",
    "    for epoch in range(epochs):\n",
    "        batch_i = 1\n",
    "        for batch_features, batch_labels in helper.load_preprocess_training_batch(batch_i, batch_size):\n",
    "            train_neural_network(sess, optimizer, keep_probability, batch_features, batch_labels)\n",
    "        print('Epoch {:>2}, CIFAR-10 Batch {}:  '.format(epoch + 1, batch_i), end='')\n",
    "        print_stats(sess, batch_features, batch_labels, cost, accuracy)"
   ]
  },
  {
   "cell_type": "markdown",
   "metadata": {},
   "source": [
    "### Fully Train the Model\n",
    "Now that you got a good accuracy with a single CIFAR-10 batch, try it with all five batches."
   ]
  },
  {
   "cell_type": "code",
   "execution_count": 17,
   "metadata": {},
   "outputs": [
    {
     "name": "stdout",
     "output_type": "stream",
     "text": [
      "Training...\n",
      "Epoch  1, CIFAR-10 Batch 1:  Loss:  2.0524237 Accuracy:  0.3292\n",
      "Epoch  1, CIFAR-10 Batch 2:  Loss:  1.7789608 Accuracy:  0.4012\n",
      "Epoch  1, CIFAR-10 Batch 3:  Loss:  1.5219337 Accuracy:  0.4216\n",
      "Epoch  1, CIFAR-10 Batch 4:  Loss:  1.5604109 Accuracy:  0.4506\n",
      "Epoch  1, CIFAR-10 Batch 5:  Loss:  1.5418375 Accuracy:  0.4668\n",
      "Epoch  2, CIFAR-10 Batch 1:  Loss:  1.7636693 Accuracy:  0.4834\n",
      "Epoch  2, CIFAR-10 Batch 2:  Loss:  1.4161055 Accuracy:  0.489\n",
      "Epoch  2, CIFAR-10 Batch 3:  Loss:  1.2090256 Accuracy:  0.492\n",
      "Epoch  2, CIFAR-10 Batch 4:  Loss:  1.4106534 Accuracy:  0.5034\n",
      "Epoch  2, CIFAR-10 Batch 5:  Loss:  1.4011561 Accuracy:  0.5116\n",
      "Epoch  3, CIFAR-10 Batch 1:  Loss:  1.496732 Accuracy:  0.5228\n",
      "Epoch  3, CIFAR-10 Batch 2:  Loss:  1.2331368 Accuracy:  0.5298\n",
      "Epoch  3, CIFAR-10 Batch 3:  Loss:  1.0730181 Accuracy:  0.503\n",
      "Epoch  3, CIFAR-10 Batch 4:  Loss:  1.2806635 Accuracy:  0.5346\n",
      "Epoch  3, CIFAR-10 Batch 5:  Loss:  1.26596 Accuracy:  0.5282\n",
      "Epoch  4, CIFAR-10 Batch 1:  Loss:  1.3479867 Accuracy:  0.5456\n",
      "Epoch  4, CIFAR-10 Batch 2:  Loss:  1.1482666 Accuracy:  0.5336\n",
      "Epoch  4, CIFAR-10 Batch 3:  Loss:  0.9635867 Accuracy:  0.538\n",
      "Epoch  4, CIFAR-10 Batch 4:  Loss:  1.1375537 Accuracy:  0.5592\n",
      "Epoch  4, CIFAR-10 Batch 5:  Loss:  1.1182121 Accuracy:  0.5504\n",
      "Epoch  5, CIFAR-10 Batch 1:  Loss:  1.2118436 Accuracy:  0.5598\n",
      "Epoch  5, CIFAR-10 Batch 2:  Loss:  1.0324805 Accuracy:  0.559\n",
      "Epoch  5, CIFAR-10 Batch 3:  Loss:  0.91221935 Accuracy:  0.5436\n",
      "Epoch  5, CIFAR-10 Batch 4:  Loss:  1.0727978 Accuracy:  0.5702\n",
      "Epoch  5, CIFAR-10 Batch 5:  Loss:  1.027128 Accuracy:  0.5534\n",
      "Epoch  6, CIFAR-10 Batch 1:  Loss:  1.091026 Accuracy:  0.569\n",
      "Epoch  6, CIFAR-10 Batch 2:  Loss:  0.9007243 Accuracy:  0.575\n",
      "Epoch  6, CIFAR-10 Batch 3:  Loss:  0.8510502 Accuracy:  0.5612\n",
      "Epoch  6, CIFAR-10 Batch 4:  Loss:  1.0398197 Accuracy:  0.5776\n",
      "Epoch  6, CIFAR-10 Batch 5:  Loss:  0.91913235 Accuracy:  0.5734\n",
      "Epoch  7, CIFAR-10 Batch 1:  Loss:  1.0572125 Accuracy:  0.5828\n",
      "Epoch  7, CIFAR-10 Batch 2:  Loss:  0.9286259 Accuracy:  0.5708\n",
      "Epoch  7, CIFAR-10 Batch 3:  Loss:  0.74810636 Accuracy:  0.5846\n",
      "Epoch  7, CIFAR-10 Batch 4:  Loss:  0.92315406 Accuracy:  0.5902\n",
      "Epoch  7, CIFAR-10 Batch 5:  Loss:  0.83536327 Accuracy:  0.5814\n",
      "Epoch  8, CIFAR-10 Batch 1:  Loss:  0.9765774 Accuracy:  0.5946\n",
      "Epoch  8, CIFAR-10 Batch 2:  Loss:  0.82465 Accuracy:  0.5826\n",
      "Epoch  8, CIFAR-10 Batch 3:  Loss:  0.6905565 Accuracy:  0.5818\n",
      "Epoch  8, CIFAR-10 Batch 4:  Loss:  0.9011272 Accuracy:  0.5922\n",
      "Epoch  8, CIFAR-10 Batch 5:  Loss:  0.8639779 Accuracy:  0.5964\n",
      "Epoch  9, CIFAR-10 Batch 1:  Loss:  0.987414 Accuracy:  0.5868\n",
      "Epoch  9, CIFAR-10 Batch 2:  Loss:  0.7390992 Accuracy:  0.6076\n",
      "Epoch  9, CIFAR-10 Batch 3:  Loss:  0.65628636 Accuracy:  0.594\n",
      "Epoch  9, CIFAR-10 Batch 4:  Loss:  0.857506 Accuracy:  0.5894\n",
      "Epoch  9, CIFAR-10 Batch 5:  Loss:  0.8228773 Accuracy:  0.61\n",
      "Epoch 10, CIFAR-10 Batch 1:  Loss:  0.8785844 Accuracy:  0.6034\n",
      "Epoch 10, CIFAR-10 Batch 2:  Loss:  0.7348696 Accuracy:  0.5968\n",
      "Epoch 10, CIFAR-10 Batch 3:  Loss:  0.6259643 Accuracy:  0.5986\n",
      "Epoch 10, CIFAR-10 Batch 4:  Loss:  0.7361733 Accuracy:  0.5994\n",
      "Epoch 10, CIFAR-10 Batch 5:  Loss:  0.7941245 Accuracy:  0.6066\n",
      "Epoch 11, CIFAR-10 Batch 1:  Loss:  0.8490817 Accuracy:  0.6042\n",
      "Epoch 11, CIFAR-10 Batch 2:  Loss:  0.6989759 Accuracy:  0.605\n",
      "Epoch 11, CIFAR-10 Batch 3:  Loss:  0.60730475 Accuracy:  0.6052\n",
      "Epoch 11, CIFAR-10 Batch 4:  Loss:  0.716955 Accuracy:  0.6108\n",
      "Epoch 11, CIFAR-10 Batch 5:  Loss:  0.7568658 Accuracy:  0.6112\n",
      "Epoch 12, CIFAR-10 Batch 1:  Loss:  0.88527375 Accuracy:  0.6084\n",
      "Epoch 12, CIFAR-10 Batch 2:  Loss:  0.6468989 Accuracy:  0.6086\n",
      "Epoch 12, CIFAR-10 Batch 3:  Loss:  0.52327 Accuracy:  0.6112\n",
      "Epoch 12, CIFAR-10 Batch 4:  Loss:  0.6966518 Accuracy:  0.5982\n",
      "Epoch 12, CIFAR-10 Batch 5:  Loss:  0.7241433 Accuracy:  0.6106\n",
      "Epoch 13, CIFAR-10 Batch 1:  Loss:  0.81525725 Accuracy:  0.6072\n",
      "Epoch 13, CIFAR-10 Batch 2:  Loss:  0.62511724 Accuracy:  0.607\n",
      "Epoch 13, CIFAR-10 Batch 3:  Loss:  0.5197426 Accuracy:  0.6104\n",
      "Epoch 13, CIFAR-10 Batch 4:  Loss:  0.6362273 Accuracy:  0.6124\n",
      "Epoch 13, CIFAR-10 Batch 5:  Loss:  0.6986605 Accuracy:  0.61\n",
      "Epoch 14, CIFAR-10 Batch 1:  Loss:  0.7603971 Accuracy:  0.6144\n",
      "Epoch 14, CIFAR-10 Batch 2:  Loss:  0.6389953 Accuracy:  0.6062\n",
      "Epoch 14, CIFAR-10 Batch 3:  Loss:  0.5061504 Accuracy:  0.6092\n",
      "Epoch 14, CIFAR-10 Batch 4:  Loss:  0.6367507 Accuracy:  0.6124\n",
      "Epoch 14, CIFAR-10 Batch 5:  Loss:  0.68684065 Accuracy:  0.6126\n",
      "Epoch 15, CIFAR-10 Batch 1:  Loss:  0.73601013 Accuracy:  0.6142\n",
      "Epoch 15, CIFAR-10 Batch 2:  Loss:  0.54770607 Accuracy:  0.6134\n",
      "Epoch 15, CIFAR-10 Batch 3:  Loss:  0.46884146 Accuracy:  0.6038\n",
      "Epoch 15, CIFAR-10 Batch 4:  Loss:  0.61547965 Accuracy:  0.6154\n",
      "Epoch 15, CIFAR-10 Batch 5:  Loss:  0.65229607 Accuracy:  0.619\n",
      "Epoch 16, CIFAR-10 Batch 1:  Loss:  0.6915611 Accuracy:  0.6148\n",
      "Epoch 16, CIFAR-10 Batch 2:  Loss:  0.5193609 Accuracy:  0.614\n",
      "Epoch 16, CIFAR-10 Batch 3:  Loss:  0.46087584 Accuracy:  0.6174\n",
      "Epoch 16, CIFAR-10 Batch 4:  Loss:  0.59744716 Accuracy:  0.6188\n",
      "Epoch 16, CIFAR-10 Batch 5:  Loss:  0.6248749 Accuracy:  0.6102\n",
      "Epoch 17, CIFAR-10 Batch 1:  Loss:  0.67371356 Accuracy:  0.6184\n",
      "Epoch 17, CIFAR-10 Batch 2:  Loss:  0.46590924 Accuracy:  0.6256\n",
      "Epoch 17, CIFAR-10 Batch 3:  Loss:  0.3982311 Accuracy:  0.6242\n",
      "Epoch 17, CIFAR-10 Batch 4:  Loss:  0.5438062 Accuracy:  0.619\n",
      "Epoch 17, CIFAR-10 Batch 5:  Loss:  0.61588097 Accuracy:  0.6222\n",
      "Epoch 18, CIFAR-10 Batch 1:  Loss:  0.61344475 Accuracy:  0.625\n",
      "Epoch 18, CIFAR-10 Batch 2:  Loss:  0.48846045 Accuracy:  0.6154\n",
      "Epoch 18, CIFAR-10 Batch 3:  Loss:  0.4298664 Accuracy:  0.6222\n",
      "Epoch 18, CIFAR-10 Batch 4:  Loss:  0.552942 Accuracy:  0.6252\n",
      "Epoch 18, CIFAR-10 Batch 5:  Loss:  0.58470315 Accuracy:  0.6264\n",
      "Epoch 19, CIFAR-10 Batch 1:  Loss:  0.6072141 Accuracy:  0.628\n",
      "Epoch 19, CIFAR-10 Batch 2:  Loss:  0.4309598 Accuracy:  0.6212\n",
      "Epoch 19, CIFAR-10 Batch 3:  Loss:  0.37632924 Accuracy:  0.625\n",
      "Epoch 19, CIFAR-10 Batch 4:  Loss:  0.49808615 Accuracy:  0.6246\n",
      "Epoch 19, CIFAR-10 Batch 5:  Loss:  0.62040746 Accuracy:  0.631\n",
      "Epoch 20, CIFAR-10 Batch 1:  Loss:  0.601673 Accuracy:  0.62\n",
      "Epoch 20, CIFAR-10 Batch 2:  Loss:  0.40103143 Accuracy:  0.6238\n",
      "Epoch 20, CIFAR-10 Batch 3:  Loss:  0.39991534 Accuracy:  0.6212\n",
      "Epoch 20, CIFAR-10 Batch 4:  Loss:  0.49466783 Accuracy:  0.627\n",
      "Epoch 20, CIFAR-10 Batch 5:  Loss:  0.5396989 Accuracy:  0.6326\n",
      "Epoch 21, CIFAR-10 Batch 1:  Loss:  0.57924956 Accuracy:  0.6302\n",
      "Epoch 21, CIFAR-10 Batch 2:  Loss:  0.3799006 Accuracy:  0.6166\n",
      "Epoch 21, CIFAR-10 Batch 3:  Loss:  0.3786289 Accuracy:  0.6228\n",
      "Epoch 21, CIFAR-10 Batch 4:  Loss:  0.4852571 Accuracy:  0.629\n",
      "Epoch 21, CIFAR-10 Batch 5:  Loss:  0.49729005 Accuracy:  0.639\n",
      "Epoch 22, CIFAR-10 Batch 1:  Loss:  0.53959686 Accuracy:  0.6278\n",
      "Epoch 22, CIFAR-10 Batch 2:  Loss:  0.37669632 Accuracy:  0.6264\n",
      "Epoch 22, CIFAR-10 Batch 3:  Loss:  0.35145253 Accuracy:  0.6304\n",
      "Epoch 22, CIFAR-10 Batch 4:  Loss:  0.4469718 Accuracy:  0.6278\n",
      "Epoch 22, CIFAR-10 Batch 5:  Loss:  0.4931677 Accuracy:  0.6388\n",
      "Epoch 23, CIFAR-10 Batch 1:  Loss:  0.5479964 Accuracy:  0.6254\n",
      "Epoch 23, CIFAR-10 Batch 2:  Loss:  0.32551178 Accuracy:  0.6278\n",
      "Epoch 23, CIFAR-10 Batch 3:  Loss:  0.35731977 Accuracy:  0.6274\n",
      "Epoch 23, CIFAR-10 Batch 4:  Loss:  0.42521977 Accuracy:  0.634\n",
      "Epoch 23, CIFAR-10 Batch 5:  Loss:  0.45531368 Accuracy:  0.6408\n",
      "Epoch 24, CIFAR-10 Batch 1:  Loss:  0.5791389 Accuracy:  0.6342\n",
      "Epoch 24, CIFAR-10 Batch 2:  Loss:  0.33581895 Accuracy:  0.6288\n",
      "Epoch 24, CIFAR-10 Batch 3:  Loss:  0.35174838 Accuracy:  0.6328\n",
      "Epoch 24, CIFAR-10 Batch 4:  Loss:  0.42959672 Accuracy:  0.6342\n",
      "Epoch 24, CIFAR-10 Batch 5:  Loss:  0.45090923 Accuracy:  0.6442\n",
      "Epoch 25, CIFAR-10 Batch 1:  Loss:  0.52340806 Accuracy:  0.6364\n",
      "Epoch 25, CIFAR-10 Batch 2:  Loss:  0.34630018 Accuracy:  0.6264\n",
      "Epoch 25, CIFAR-10 Batch 3:  Loss:  0.3343088 Accuracy:  0.6372\n",
      "Epoch 25, CIFAR-10 Batch 4:  Loss:  0.42437735 Accuracy:  0.6228\n",
      "Epoch 25, CIFAR-10 Batch 5:  Loss:  0.46487418 Accuracy:  0.638\n",
      "Epoch 26, CIFAR-10 Batch 1:  Loss:  0.5240207 Accuracy:  0.6314\n",
      "Epoch 26, CIFAR-10 Batch 2:  Loss:  0.31993732 Accuracy:  0.6364\n",
      "Epoch 26, CIFAR-10 Batch 3:  Loss:  0.33074942 Accuracy:  0.63\n"
     ]
    },
    {
     "name": "stdout",
     "output_type": "stream",
     "text": [
      "Epoch 26, CIFAR-10 Batch 4:  Loss:  0.3998844 Accuracy:  0.6232\n",
      "Epoch 26, CIFAR-10 Batch 5:  Loss:  0.4538003 Accuracy:  0.6412\n",
      "Epoch 27, CIFAR-10 Batch 1:  Loss:  0.53579974 Accuracy:  0.627\n",
      "Epoch 27, CIFAR-10 Batch 2:  Loss:  0.25822234 Accuracy:  0.6426\n",
      "Epoch 27, CIFAR-10 Batch 3:  Loss:  0.3144959 Accuracy:  0.6376\n",
      "Epoch 27, CIFAR-10 Batch 4:  Loss:  0.38459462 Accuracy:  0.6284\n",
      "Epoch 27, CIFAR-10 Batch 5:  Loss:  0.42931765 Accuracy:  0.6494\n",
      "Epoch 28, CIFAR-10 Batch 1:  Loss:  0.45641106 Accuracy:  0.6448\n",
      "Epoch 28, CIFAR-10 Batch 2:  Loss:  0.25895685 Accuracy:  0.631\n",
      "Epoch 28, CIFAR-10 Batch 3:  Loss:  0.28711092 Accuracy:  0.6438\n",
      "Epoch 28, CIFAR-10 Batch 4:  Loss:  0.39256763 Accuracy:  0.6218\n",
      "Epoch 28, CIFAR-10 Batch 5:  Loss:  0.4150261 Accuracy:  0.6494\n",
      "Epoch 29, CIFAR-10 Batch 1:  Loss:  0.4795516 Accuracy:  0.6442\n",
      "Epoch 29, CIFAR-10 Batch 2:  Loss:  0.24570188 Accuracy:  0.645\n",
      "Epoch 29, CIFAR-10 Batch 3:  Loss:  0.31207284 Accuracy:  0.6356\n",
      "Epoch 29, CIFAR-10 Batch 4:  Loss:  0.37175852 Accuracy:  0.6252\n",
      "Epoch 29, CIFAR-10 Batch 5:  Loss:  0.40620288 Accuracy:  0.6438\n",
      "Epoch 30, CIFAR-10 Batch 1:  Loss:  0.4431787 Accuracy:  0.6332\n",
      "Epoch 30, CIFAR-10 Batch 2:  Loss:  0.22918594 Accuracy:  0.6418\n",
      "Epoch 30, CIFAR-10 Batch 3:  Loss:  0.27748904 Accuracy:  0.6338\n",
      "Epoch 30, CIFAR-10 Batch 4:  Loss:  0.3320218 Accuracy:  0.6342\n",
      "Epoch 30, CIFAR-10 Batch 5:  Loss:  0.41785783 Accuracy:  0.6408\n",
      "Epoch 31, CIFAR-10 Batch 1:  Loss:  0.42196244 Accuracy:  0.6326\n",
      "Epoch 31, CIFAR-10 Batch 2:  Loss:  0.25265008 Accuracy:  0.6446\n",
      "Epoch 31, CIFAR-10 Batch 3:  Loss:  0.27209306 Accuracy:  0.6344\n",
      "Epoch 31, CIFAR-10 Batch 4:  Loss:  0.32490075 Accuracy:  0.6388\n",
      "Epoch 31, CIFAR-10 Batch 5:  Loss:  0.38218206 Accuracy:  0.6452\n",
      "Epoch 32, CIFAR-10 Batch 1:  Loss:  0.42097464 Accuracy:  0.6356\n",
      "Epoch 32, CIFAR-10 Batch 2:  Loss:  0.22273989 Accuracy:  0.6456\n",
      "Epoch 32, CIFAR-10 Batch 3:  Loss:  0.27058855 Accuracy:  0.628\n",
      "Epoch 32, CIFAR-10 Batch 4:  Loss:  0.303628 Accuracy:  0.64\n",
      "Epoch 32, CIFAR-10 Batch 5:  Loss:  0.3881384 Accuracy:  0.6426\n",
      "Epoch 33, CIFAR-10 Batch 1:  Loss:  0.3863448 Accuracy:  0.6354\n",
      "Epoch 33, CIFAR-10 Batch 2:  Loss:  0.20478132 Accuracy:  0.647\n",
      "Epoch 33, CIFAR-10 Batch 3:  Loss:  0.25298345 Accuracy:  0.6356\n",
      "Epoch 33, CIFAR-10 Batch 4:  Loss:  0.33224586 Accuracy:  0.6242\n",
      "Epoch 33, CIFAR-10 Batch 5:  Loss:  0.37259406 Accuracy:  0.641\n",
      "Epoch 34, CIFAR-10 Batch 1:  Loss:  0.39769197 Accuracy:  0.6288\n",
      "Epoch 34, CIFAR-10 Batch 2:  Loss:  0.20737517 Accuracy:  0.6408\n",
      "Epoch 34, CIFAR-10 Batch 3:  Loss:  0.23296967 Accuracy:  0.6346\n",
      "Epoch 34, CIFAR-10 Batch 4:  Loss:  0.30564904 Accuracy:  0.6342\n",
      "Epoch 34, CIFAR-10 Batch 5:  Loss:  0.33551654 Accuracy:  0.639\n",
      "Epoch 35, CIFAR-10 Batch 1:  Loss:  0.40265265 Accuracy:  0.6276\n",
      "Epoch 35, CIFAR-10 Batch 2:  Loss:  0.19267116 Accuracy:  0.6422\n",
      "Epoch 35, CIFAR-10 Batch 3:  Loss:  0.22236744 Accuracy:  0.6336\n",
      "Epoch 35, CIFAR-10 Batch 4:  Loss:  0.32180256 Accuracy:  0.6312\n",
      "Epoch 35, CIFAR-10 Batch 5:  Loss:  0.37209547 Accuracy:  0.642\n",
      "Epoch 36, CIFAR-10 Batch 1:  Loss:  0.34698 Accuracy:  0.631\n",
      "Epoch 36, CIFAR-10 Batch 2:  Loss:  0.18620236 Accuracy:  0.6452\n",
      "Epoch 36, CIFAR-10 Batch 3:  Loss:  0.20015335 Accuracy:  0.6312\n",
      "Epoch 36, CIFAR-10 Batch 4:  Loss:  0.32305366 Accuracy:  0.636\n",
      "Epoch 36, CIFAR-10 Batch 5:  Loss:  0.33356348 Accuracy:  0.638\n",
      "Epoch 37, CIFAR-10 Batch 1:  Loss:  0.3475789 Accuracy:  0.6314\n",
      "Epoch 37, CIFAR-10 Batch 2:  Loss:  0.16398309 Accuracy:  0.641\n",
      "Epoch 37, CIFAR-10 Batch 3:  Loss:  0.21656099 Accuracy:  0.6278\n",
      "Epoch 37, CIFAR-10 Batch 4:  Loss:  0.28163043 Accuracy:  0.6374\n",
      "Epoch 37, CIFAR-10 Batch 5:  Loss:  0.35216573 Accuracy:  0.6412\n",
      "Epoch 38, CIFAR-10 Batch 1:  Loss:  0.3223403 Accuracy:  0.6232\n",
      "Epoch 38, CIFAR-10 Batch 2:  Loss:  0.18244508 Accuracy:  0.6406\n",
      "Epoch 38, CIFAR-10 Batch 3:  Loss:  0.19611415 Accuracy:  0.628\n",
      "Epoch 38, CIFAR-10 Batch 4:  Loss:  0.26068074 Accuracy:  0.6386\n",
      "Epoch 38, CIFAR-10 Batch 5:  Loss:  0.31705505 Accuracy:  0.6436\n",
      "Epoch 39, CIFAR-10 Batch 1:  Loss:  0.3315551 Accuracy:  0.6408\n",
      "Epoch 39, CIFAR-10 Batch 2:  Loss:  0.1720244 Accuracy:  0.6476\n",
      "Epoch 39, CIFAR-10 Batch 3:  Loss:  0.17834044 Accuracy:  0.6274\n",
      "Epoch 39, CIFAR-10 Batch 4:  Loss:  0.25704154 Accuracy:  0.62\n",
      "Epoch 39, CIFAR-10 Batch 5:  Loss:  0.33173096 Accuracy:  0.6422\n",
      "Epoch 40, CIFAR-10 Batch 1:  Loss:  0.31369957 Accuracy:  0.6362\n",
      "Epoch 40, CIFAR-10 Batch 2:  Loss:  0.16799 Accuracy:  0.6436\n",
      "Epoch 40, CIFAR-10 Batch 3:  Loss:  0.18257964 Accuracy:  0.6364\n",
      "Epoch 40, CIFAR-10 Batch 4:  Loss:  0.2687765 Accuracy:  0.6286\n",
      "Epoch 40, CIFAR-10 Batch 5:  Loss:  0.31293252 Accuracy:  0.6384\n",
      "Epoch 41, CIFAR-10 Batch 1:  Loss:  0.31603593 Accuracy:  0.632\n",
      "Epoch 41, CIFAR-10 Batch 2:  Loss:  0.16135585 Accuracy:  0.6408\n",
      "Epoch 41, CIFAR-10 Batch 3:  Loss:  0.17282099 Accuracy:  0.6384\n",
      "Epoch 41, CIFAR-10 Batch 4:  Loss:  0.23232035 Accuracy:  0.6354\n",
      "Epoch 41, CIFAR-10 Batch 5:  Loss:  0.28633237 Accuracy:  0.6422\n",
      "Epoch 42, CIFAR-10 Batch 1:  Loss:  0.2870329 Accuracy:  0.6368\n",
      "Epoch 42, CIFAR-10 Batch 2:  Loss:  0.13900407 Accuracy:  0.6406\n",
      "Epoch 42, CIFAR-10 Batch 3:  Loss:  0.17731783 Accuracy:  0.6418\n",
      "Epoch 42, CIFAR-10 Batch 4:  Loss:  0.22459495 Accuracy:  0.6362\n",
      "Epoch 42, CIFAR-10 Batch 5:  Loss:  0.28168166 Accuracy:  0.6438\n",
      "Epoch 43, CIFAR-10 Batch 1:  Loss:  0.2892749 Accuracy:  0.6364\n",
      "Epoch 43, CIFAR-10 Batch 2:  Loss:  0.14163777 Accuracy:  0.639\n",
      "Epoch 43, CIFAR-10 Batch 3:  Loss:  0.16798761 Accuracy:  0.6396\n",
      "Epoch 43, CIFAR-10 Batch 4:  Loss:  0.2338694 Accuracy:  0.634\n",
      "Epoch 43, CIFAR-10 Batch 5:  Loss:  0.26326692 Accuracy:  0.6468\n",
      "Epoch 44, CIFAR-10 Batch 1:  Loss:  0.29764947 Accuracy:  0.6408\n",
      "Epoch 44, CIFAR-10 Batch 2:  Loss:  0.13047795 Accuracy:  0.64\n",
      "Epoch 44, CIFAR-10 Batch 3:  Loss:  0.15823862 Accuracy:  0.641\n",
      "Epoch 44, CIFAR-10 Batch 4:  Loss:  0.21697645 Accuracy:  0.626\n",
      "Epoch 44, CIFAR-10 Batch 5:  Loss:  0.28615147 Accuracy:  0.6406\n",
      "Epoch 45, CIFAR-10 Batch 1:  Loss:  0.25910434 Accuracy:  0.6376\n",
      "Epoch 45, CIFAR-10 Batch 2:  Loss:  0.12453103 Accuracy:  0.6458\n",
      "Epoch 45, CIFAR-10 Batch 3:  Loss:  0.160236 Accuracy:  0.6398\n",
      "Epoch 45, CIFAR-10 Batch 4:  Loss:  0.21044669 Accuracy:  0.6344\n",
      "Epoch 45, CIFAR-10 Batch 5:  Loss:  0.25808546 Accuracy:  0.6412\n",
      "Epoch 46, CIFAR-10 Batch 1:  Loss:  0.28365216 Accuracy:  0.6312\n",
      "Epoch 46, CIFAR-10 Batch 2:  Loss:  0.15346818 Accuracy:  0.6318\n",
      "Epoch 46, CIFAR-10 Batch 3:  Loss:  0.14770322 Accuracy:  0.6394\n",
      "Epoch 46, CIFAR-10 Batch 4:  Loss:  0.19835453 Accuracy:  0.6322\n",
      "Epoch 46, CIFAR-10 Batch 5:  Loss:  0.259 Accuracy:  0.635\n",
      "Epoch 47, CIFAR-10 Batch 1:  Loss:  0.257891 Accuracy:  0.6256\n",
      "Epoch 47, CIFAR-10 Batch 2:  Loss:  0.11184325 Accuracy:  0.6344\n",
      "Epoch 47, CIFAR-10 Batch 3:  Loss:  0.14882283 Accuracy:  0.6364\n",
      "Epoch 47, CIFAR-10 Batch 4:  Loss:  0.19595939 Accuracy:  0.6342\n",
      "Epoch 47, CIFAR-10 Batch 5:  Loss:  0.27910018 Accuracy:  0.6418\n",
      "Epoch 48, CIFAR-10 Batch 1:  Loss:  0.22568902 Accuracy:  0.6274\n",
      "Epoch 48, CIFAR-10 Batch 2:  Loss:  0.109292194 Accuracy:  0.6408\n",
      "Epoch 48, CIFAR-10 Batch 3:  Loss:  0.15407677 Accuracy:  0.6372\n",
      "Epoch 48, CIFAR-10 Batch 4:  Loss:  0.20016173 Accuracy:  0.6338\n",
      "Epoch 48, CIFAR-10 Batch 5:  Loss:  0.26915026 Accuracy:  0.6356\n"
     ]
    }
   ],
   "source": [
    "\"\"\"\n",
    "DON'T MODIFY ANYTHING IN THIS CELL\n",
    "\"\"\"\n",
    "save_model_path = './image_classification'\n",
    "\n",
    "print('Training...')\n",
    "with tf.Session() as sess:\n",
    "    # Initializing the variables\n",
    "    sess.run(tf.global_variables_initializer())\n",
    "    \n",
    "    # Training cycle\n",
    "    for epoch in range(epochs):\n",
    "        # Loop over all batches\n",
    "        n_batches = 5\n",
    "        for batch_i in range(1, n_batches + 1):\n",
    "            for batch_features, batch_labels in helper.load_preprocess_training_batch(batch_i, batch_size):\n",
    "                train_neural_network(sess, optimizer, keep_probability, batch_features, batch_labels)\n",
    "            print('Epoch {:>2}, CIFAR-10 Batch {}:  '.format(epoch + 1, batch_i), end='')\n",
    "            print_stats(sess, batch_features, batch_labels, cost, accuracy)\n",
    "            \n",
    "    # Save Model\n",
    "    saver = tf.train.Saver()\n",
    "    save_path = saver.save(sess, save_model_path)"
   ]
  },
  {
   "cell_type": "markdown",
   "metadata": {},
   "source": [
    "# Checkpoint\n",
    "The model has been saved to disk.\n",
    "## Test Model\n",
    "Test your model against the test dataset.  This will be your final accuracy. You should have an accuracy greater than 50%. If you don't, keep tweaking the model architecture and parameters."
   ]
  },
  {
   "cell_type": "code",
   "execution_count": 18,
   "metadata": {},
   "outputs": [
    {
     "name": "stdout",
     "output_type": "stream",
     "text": [
      "INFO:tensorflow:Restoring parameters from ./image_classification\n",
      "Testing Accuracy: 0.6267800632911392\n",
      "\n"
     ]
    },
    {
     "data": {
      "image/png": "[encoded data removed]",
      "text/plain": [
       "<Figure size 432x288 with 8 Axes>"
      ]
     },
     "metadata": {
      "image/png": {
       "height": 319,
       "width": 355
      }
     },
     "output_type": "display_data"
    }
   ],
   "source": [
    "\"\"\"\n",
    "DON'T MODIFY ANYTHING IN THIS CELL\n",
    "\"\"\"\n",
    "%matplotlib inline\n",
    "%config InlineBackend.figure_format = 'retina'\n",
    "\n",
    "import tensorflow as tf\n",
    "import pickle\n",
    "import helper\n",
    "import random\n",
    "\n",
    "# Set batch size if not already set\n",
    "try:\n",
    "    if batch_size:\n",
    "        pass\n",
    "except NameError:\n",
    "    batch_size = 64\n",
    "\n",
    "save_model_path = './image_classification'\n",
    "n_samples = 4\n",
    "top_n_predictions = 3\n",
    "\n",
    "def test_model():\n",
    "    \"\"\"\n",
    "    Test the saved model against the test dataset\n",
    "    \"\"\"\n",
    "\n",
    "    test_features, test_labels = pickle.load(open('preprocess_training.p', mode='rb'))\n",
    "    loaded_graph = tf.Graph()\n",
    "\n",
    "    with tf.Session(graph=loaded_graph) as sess:\n",
    "        # Load model\n",
    "        loader = tf.train.import_meta_graph(save_model_path + '.meta')\n",
    "        loader.restore(sess, save_model_path)\n",
    "\n",
    "        # Get Tensors from loaded model\n",
    "        loaded_x = loaded_graph.get_tensor_by_name('x:0')\n",
    "        loaded_y = loaded_graph.get_tensor_by_name('y:0')\n",
    "        loaded_keep_prob = loaded_graph.get_tensor_by_name('keep_prob:0')\n",
    "        loaded_logits = loaded_graph.get_tensor_by_name('logits:0')\n",
    "        loaded_acc = loaded_graph.get_tensor_by_name('accuracy:0')\n",
    "        \n",
    "        # Get accuracy in batches for memory limitations\n",
    "        test_batch_acc_total = 0\n",
    "        test_batch_count = 0\n",
    "        \n",
    "        for train_feature_batch, train_label_batch in helper.batch_features_labels(test_features, test_labels, batch_size):\n",
    "            test_batch_acc_total += sess.run(\n",
    "                loaded_acc,\n",
    "                feed_dict={loaded_x: train_feature_batch, loaded_y: train_label_batch, loaded_keep_prob: 1.0})\n",
    "            test_batch_count += 1\n",
    "\n",
    "        print('Testing Accuracy: {}\\n'.format(test_batch_acc_total/test_batch_count))\n",
    "\n",
    "        # Print Random Samples\n",
    "        random_test_features, random_test_labels = tuple(zip(*random.sample(list(zip(test_features, test_labels)), n_samples)))\n",
    "        random_test_predictions = sess.run(\n",
    "            tf.nn.top_k(tf.nn.softmax(loaded_logits), top_n_predictions),\n",
    "            feed_dict={loaded_x: random_test_features, loaded_y: random_test_labels, loaded_keep_prob: 1.0})\n",
    "        helper.display_image_predictions(random_test_features, random_test_labels, random_test_predictions)\n",
    "\n",
    "\n",
    "test_model()"
   ]
  },
  {
   "cell_type": "markdown",
   "metadata": {},
   "source": [
    "## Why 50-80% Accuracy?\n",
    "You might be wondering why you can't get an accuracy any higher. First things first, 50% isn't bad for a simple CNN.  Pure guessing would get you 10% accuracy. That's because there are many more techniques that can be applied to your model and we recemmond that once you are done with this project, you explore!\n",
    "\n",
    "## Submitting This Project\n",
    "When submitting this project, make sure to run all the cells before saving the notebook.  Save the notebook file as \"image_classification.ipynb\" and save it as a HTML file under \"File\" -> \"Download as\".  Include the \"helper.py\" and \"problem_unittests.py\" files in your submission."
   ]
  }
 ],
 "metadata": {
  "kernelspec": {
   "display_name": "Python 2",
   "language": "python",
   "name": "python2"
  },
  "language_info": {
   "codemirror_mode": {
    "name": "ipython",
    "version": 3
   },
   "file_extension": ".py",
   "mimetype": "text/x-python",
   "name": "python",
   "nbconvert_exporter": "python",
   "pygments_lexer": "ipython3",
   "version": "3.5.1+"
  }
 },
 "nbformat": 4,
 "nbformat_minor": 1
}
